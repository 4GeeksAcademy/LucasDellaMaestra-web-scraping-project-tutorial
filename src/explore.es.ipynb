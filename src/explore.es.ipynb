{
    "cells": [
        {
            "cell_type": "markdown",
            "metadata": {},
            "source": [
                "# Explora aquí\n",
                "\n",
                "Se recomienda utilizar este cuaderno con fines de exploración."
            ]
        },
        {
            "cell_type": "code",
            "execution_count": 309,
            "metadata": {},
            "outputs": [],
            "source": [
                "import os\n",
                "from bs4 import BeautifulSoup\n",
                "import requests\n",
                "import time\n",
                "import sqlite3\n",
                "import matplotlib.pyplot as plt\n",
                "import seaborn as sns\n",
                "import pandas as pd"
            ]
        },
        {
            "cell_type": "code",
            "execution_count": 310,
            "metadata": {},
            "outputs": [
                {
                    "name": "stdout",
                    "output_type": "stream",
                    "text": [
                        "✅ La solicitud fue exitosa. Código: 200\n"
                    ]
                }
            ],
            "source": [
                "# ---------  HACER LA SOLICITUD A LA WEB ---------\n",
                "url = \"https://companies-market-cap-copy.vercel.app/index.html\"\n",
                "\n",
                "response = requests.get(url)\n",
                "html = response.text  # Obtenemos el HTML de la página\n",
                "\n",
                "# Verificamos el código de estado\n",
                "if response.status_code == 200:\n",
                "    print(\"✅ La solicitud fue exitosa. Código:\", response.status_code)\n",
                "else:\n",
                "    print(\"❌ Hubo un problema. Código:\", response.status_code)"
            ]
        },
        {
            "cell_type": "code",
            "execution_count": 311,
            "metadata": {},
            "outputs": [],
            "source": [
                "# --------- PARSEAR EL HTML CON BEAUTIFULSOUP ---------\n",
                "soup = BeautifulSoup(html, \"html.parser\")"
            ]
        },
        {
            "cell_type": "code",
            "execution_count": 312,
            "metadata": {},
            "outputs": [
                {
                    "name": "stdout",
                    "output_type": "stream",
                    "text": [
                        "Se encontraron 2 tabla(s)\n"
                    ]
                }
            ],
            "source": [
                "# --------- BUSCAR LA TABLA ---------\n",
                "# Vamos a buscar todas las tablas (por si hay más de una)\n",
                "tablas = soup.find_all(\"table\")\n",
                "print(f\"Se encontraron {len(tablas)} tabla(s)\")\n",
                "\n",
                "# Suponemos que la tabla que queremos es la primera\n",
                "tabla = tablas[0]  # Puede que sea necesario ajustar esto si hay más tablas"
            ]
        },
        {
            "cell_type": "code",
            "execution_count": 313,
            "metadata": {},
            "outputs": [
                {
                    "name": "stdout",
                    "output_type": "stream",
                    "text": [
                        "Columnas encontradas: ['Year', 'Revenue', 'Change']\n"
                    ]
                }
            ],
            "source": [
                "# ---------  EXTRAER CABECERAS ---------\n",
                "cabeceras_html = tabla.find_all(\"th\")\n",
                "cabeceras = [th.text.strip() for th in cabeceras_html]\n",
                "print(f\"Columnas encontradas: {cabeceras}\")"
            ]
        },
        {
            "cell_type": "code",
            "execution_count": 314,
            "metadata": {},
            "outputs": [],
            "source": [
                "# --------- EXTRAER FILAS ---------\n",
                "filas = tabla.find_all(\"tr\")[1:]  # Saltamos la fila de cabeceras\n",
                "\n",
                "datos = []\n",
                "for fila in filas:\n",
                "    celdas = fila.find_all(\"td\")\n",
                "    if celdas:  # Verificamos que no esté vacía\n",
                "        fila_datos = [celda.text.strip() for celda in celdas]\n",
                "        datos.append(fila_datos)"
            ]
        },
        {
            "cell_type": "code",
            "execution_count": 315,
            "metadata": {},
            "outputs": [
                {
                    "name": "stdout",
                    "output_type": "stream",
                    "text": [
                        "\n",
                        "Primeras filas del DataFrame de la evolución anual:\n"
                    ]
                },
                {
                    "data": {
                        "text/html": [
                            "<div>\n",
                            "<style scoped>\n",
                            "    .dataframe tbody tr th:only-of-type {\n",
                            "        vertical-align: middle;\n",
                            "    }\n",
                            "\n",
                            "    .dataframe tbody tr th {\n",
                            "        vertical-align: top;\n",
                            "    }\n",
                            "\n",
                            "    .dataframe thead th {\n",
                            "        text-align: right;\n",
                            "    }\n",
                            "</style>\n",
                            "<table border=\"1\" class=\"dataframe\">\n",
                            "  <thead>\n",
                            "    <tr style=\"text-align: right;\">\n",
                            "      <th></th>\n",
                            "      <th>Year</th>\n",
                            "      <th>Revenue</th>\n",
                            "      <th>Change</th>\n",
                            "    </tr>\n",
                            "  </thead>\n",
                            "  <tbody>\n",
                            "    <tr>\n",
                            "      <th>0</th>\n",
                            "      <td>2024</td>\n",
                            "      <td>$97.15 B</td>\n",
                            "      <td>0.39%</td>\n",
                            "    </tr>\n",
                            "    <tr>\n",
                            "      <th>1</th>\n",
                            "      <td>2023</td>\n",
                            "      <td>$96.77 B</td>\n",
                            "      <td>18.8%</td>\n",
                            "    </tr>\n",
                            "    <tr>\n",
                            "      <th>2</th>\n",
                            "      <td>2022</td>\n",
                            "      <td>$81.46 B</td>\n",
                            "      <td>51.35%</td>\n",
                            "    </tr>\n",
                            "    <tr>\n",
                            "      <th>3</th>\n",
                            "      <td>2021</td>\n",
                            "      <td>$53.82 B</td>\n",
                            "      <td>70.67%</td>\n",
                            "    </tr>\n",
                            "    <tr>\n",
                            "      <th>4</th>\n",
                            "      <td>2020</td>\n",
                            "      <td>$31.53 B</td>\n",
                            "      <td>28.31%</td>\n",
                            "    </tr>\n",
                            "  </tbody>\n",
                            "</table>\n",
                            "</div>"
                        ],
                        "text/plain": [
                            "   Year   Revenue  Change\n",
                            "0  2024  $97.15 B   0.39%\n",
                            "1  2023  $96.77 B   18.8%\n",
                            "2  2022  $81.46 B  51.35%\n",
                            "3  2021  $53.82 B  70.67%\n",
                            "4  2020  $31.53 B  28.31%"
                        ]
                    },
                    "execution_count": 315,
                    "metadata": {},
                    "output_type": "execute_result"
                }
            ],
            "source": [
                "# --------- CREAR DATAFRAME ---------\n",
                "df = pd.DataFrame(datos, columns=cabeceras)\n",
                "print(\"\\nPrimeras filas del DataFrame de la evolución anual:\")\n",
                "df_head = df.head()\n",
                "df_head"
            ]
        },
        {
            "cell_type": "code",
            "execution_count": 316,
            "metadata": {},
            "outputs": [
                {
                    "data": {
                        "text/html": [
                            "<div>\n",
                            "<style scoped>\n",
                            "    .dataframe tbody tr th:only-of-type {\n",
                            "        vertical-align: middle;\n",
                            "    }\n",
                            "\n",
                            "    .dataframe tbody tr th {\n",
                            "        vertical-align: top;\n",
                            "    }\n",
                            "\n",
                            "    .dataframe thead th {\n",
                            "        text-align: right;\n",
                            "    }\n",
                            "</style>\n",
                            "<table border=\"1\" class=\"dataframe\">\n",
                            "  <thead>\n",
                            "    <tr style=\"text-align: right;\">\n",
                            "      <th></th>\n",
                            "      <th>Year</th>\n",
                            "      <th>Revenue</th>\n",
                            "      <th>Change</th>\n",
                            "    </tr>\n",
                            "  </thead>\n",
                            "  <tbody>\n",
                            "    <tr>\n",
                            "      <th>0</th>\n",
                            "      <td>2024</td>\n",
                            "      <td>97.15</td>\n",
                            "      <td>0.39%</td>\n",
                            "    </tr>\n",
                            "    <tr>\n",
                            "      <th>1</th>\n",
                            "      <td>2023</td>\n",
                            "      <td>96.77</td>\n",
                            "      <td>18.8%</td>\n",
                            "    </tr>\n",
                            "    <tr>\n",
                            "      <th>2</th>\n",
                            "      <td>2022</td>\n",
                            "      <td>81.46</td>\n",
                            "      <td>51.35%</td>\n",
                            "    </tr>\n",
                            "    <tr>\n",
                            "      <th>3</th>\n",
                            "      <td>2021</td>\n",
                            "      <td>53.82</td>\n",
                            "      <td>70.67%</td>\n",
                            "    </tr>\n",
                            "    <tr>\n",
                            "      <th>4</th>\n",
                            "      <td>2020</td>\n",
                            "      <td>31.53</td>\n",
                            "      <td>28.31%</td>\n",
                            "    </tr>\n",
                            "    <tr>\n",
                            "      <th>5</th>\n",
                            "      <td>2019</td>\n",
                            "      <td>24.57</td>\n",
                            "      <td>14.52%</td>\n",
                            "    </tr>\n",
                            "    <tr>\n",
                            "      <th>6</th>\n",
                            "      <td>2018</td>\n",
                            "      <td>21.46</td>\n",
                            "      <td>82.51%</td>\n",
                            "    </tr>\n",
                            "    <tr>\n",
                            "      <th>7</th>\n",
                            "      <td>2017</td>\n",
                            "      <td>11.75</td>\n",
                            "      <td>67.98%</td>\n",
                            "    </tr>\n",
                            "    <tr>\n",
                            "      <th>8</th>\n",
                            "      <td>2016</td>\n",
                            "      <td>7.00</td>\n",
                            "      <td>73.01%</td>\n",
                            "    </tr>\n",
                            "    <tr>\n",
                            "      <th>9</th>\n",
                            "      <td>2015</td>\n",
                            "      <td>4.04</td>\n",
                            "      <td>26.5%</td>\n",
                            "    </tr>\n",
                            "    <tr>\n",
                            "      <th>10</th>\n",
                            "      <td>2014</td>\n",
                            "      <td>3.19</td>\n",
                            "      <td>58.85%</td>\n",
                            "    </tr>\n",
                            "    <tr>\n",
                            "      <th>11</th>\n",
                            "      <td>2013</td>\n",
                            "      <td>2.01</td>\n",
                            "      <td>387.23%</td>\n",
                            "    </tr>\n",
                            "    <tr>\n",
                            "      <th>12</th>\n",
                            "      <td>2012</td>\n",
                            "      <td>0.41</td>\n",
                            "      <td>102.34%</td>\n",
                            "    </tr>\n",
                            "    <tr>\n",
                            "      <th>13</th>\n",
                            "      <td>2011</td>\n",
                            "      <td>0.20</td>\n",
                            "      <td>74.95%</td>\n",
                            "    </tr>\n",
                            "    <tr>\n",
                            "      <th>14</th>\n",
                            "      <td>2010</td>\n",
                            "      <td>0.11</td>\n",
                            "      <td>4.29%</td>\n",
                            "    </tr>\n",
                            "    <tr>\n",
                            "      <th>15</th>\n",
                            "      <td>2009</td>\n",
                            "      <td>0.11</td>\n",
                            "      <td></td>\n",
                            "    </tr>\n",
                            "  </tbody>\n",
                            "</table>\n",
                            "</div>"
                        ],
                        "text/plain": [
                            "    Year  Revenue   Change\n",
                            "0   2024    97.15    0.39%\n",
                            "1   2023    96.77    18.8%\n",
                            "2   2022    81.46   51.35%\n",
                            "3   2021    53.82   70.67%\n",
                            "4   2020    31.53   28.31%\n",
                            "5   2019    24.57   14.52%\n",
                            "6   2018    21.46   82.51%\n",
                            "7   2017    11.75   67.98%\n",
                            "8   2016     7.00   73.01%\n",
                            "9   2015     4.04    26.5%\n",
                            "10  2014     3.19   58.85%\n",
                            "11  2013     2.01  387.23%\n",
                            "12  2012     0.41  102.34%\n",
                            "13  2011     0.20   74.95%\n",
                            "14  2010     0.11    4.29%\n",
                            "15  2009     0.11         "
                        ]
                    },
                    "execution_count": 316,
                    "metadata": {},
                    "output_type": "execute_result"
                }
            ],
            "source": [
                "# Limpiar columna Revenue y convertir a número\n",
                "df['Revenue'] = df['Revenue'].replace({'\\$': '', 'B': '', ',': ''}, regex=True).astype(float)\n",
                "df"
            ]
        },
        {
            "cell_type": "code",
            "execution_count": 317,
            "metadata": {},
            "outputs": [],
            "source": [
                "# Crear conexión a SQLite (crea archivo si no existe)\n",
                "conn = sqlite3.connect('empresas.db')"
            ]
        },
        {
            "cell_type": "code",
            "execution_count": 318,
            "metadata": {},
            "outputs": [
                {
                    "data": {
                        "text/plain": [
                            "16"
                        ]
                    },
                    "execution_count": 318,
                    "metadata": {},
                    "output_type": "execute_result"
                }
            ],
            "source": [
                "# Guardar DataFrame como tabla 'Annual revenues'\n",
                "df.to_sql('Annual revenues', conn, if_exists='replace', index=False)"
            ]
        },
        {
            "cell_type": "code",
            "execution_count": 319,
            "metadata": {},
            "outputs": [
                {
                    "name": "stdout",
                    "output_type": "stream",
                    "text": [
                        "\n",
                        "Datos desde SQLite:\n",
                        "   Year  Revenue  Change\n",
                        "0  2024    97.15   0.39%\n",
                        "1  2023    96.77   18.8%\n",
                        "2  2022    81.46  51.35%\n",
                        "3  2021    53.82  70.67%\n",
                        "4  2020    31.53  28.31%\n"
                    ]
                }
            ],
            "source": [
                "#Leer desde SQL para verificar\n",
                "df_sql = pd.read_sql('SELECT * FROM revenues', conn)\n",
                "print(\"\\nDatos desde SQLite:\")\n",
                "print(df_sql.head())"
            ]
        },
        {
            "cell_type": "code",
            "execution_count": 320,
            "metadata": {},
            "outputs": [],
            "source": [
                "# Cerrar conexión\n",
                "conn.close()"
            ]
        },
        {
            "cell_type": "markdown",
            "metadata": {},
            "source": [
                "### Gráfico de Evolucio Anual"
            ]
        },
        {
            "cell_type": "code",
            "execution_count": 321,
            "metadata": {},
            "outputs": [
                {
                    "data": {
                        "image/png": "[encoded data removed]",
                        "text/plain": [
                            "<Figure size 1000x600 with 1 Axes>"
                        ]
                    },
                    "metadata": {},
                    "output_type": "display_data"
                }
            ],
            "source": [
                "# Ordenar por año (de menor a mayor)\n",
                "df_sorted = df.sort_values('Year')  # Ordena ascendente por defecto\n",
                "\n",
                "# Gráfico de línea para Revenue\n",
                "plt.figure(figsize=(10, 6))\n",
                "plt.plot(df_sorted['Year'], df_sorted['Revenue'] / 1_000_000_000, marker='o', color='green')  # Revenue en Billions\n",
                "plt.title('Evolución del Revenue Anual de Tesla')\n",
                "plt.xlabel('Año')\n",
                "plt.ylabel('Revenue (Billions USD)')\n",
                "plt.grid(True)\n",
                "plt.show()"
            ]
        },
        {
            "cell_type": "code",
            "execution_count": null,
            "metadata": {},
            "outputs": [
                {
                    "data": {
                        "image/png": "[encoded data removed]",
                        "text/plain": [
                            "<Figure size 1000x600 with 1 Axes>"
                        ]
                    },
                    "metadata": {},
                    "output_type": "display_data"
                }
            ],
            "source": []
        }
    ],
    "metadata": {
        "kernelspec": {
            "display_name": ".venv",
            "language": "python",
            "name": "python3"
        },
        "language_info": {
            "codemirror_mode": {
                "name": "ipython",
                "version": 3
            },
            "file_extension": ".py",
            "mimetype": "text/x-python",
            "name": "python",
            "nbconvert_exporter": "python",
            "pygments_lexer": "ipython3",
            "version": "3.11.4"
        },
        "orig_nbformat": 4
    },
    "nbformat": 4,
    "nbformat_minor": 2
}
